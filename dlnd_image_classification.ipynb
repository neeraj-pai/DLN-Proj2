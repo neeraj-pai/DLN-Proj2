{
 "cells": [
  {
   "cell_type": "markdown",
   "metadata": {
    "collapsed": true,
    "deletable": true,
    "editable": true
   },
   "source": [
    "# Image Classification\n",
    "In this project, you'll classify images from the [CIFAR-10 dataset](https://www.cs.toronto.edu/~kriz/cifar.html).  The dataset consists of airplanes, dogs, cats, and other objects. You'll preprocess the images, then train a convolutional neural network on all the samples. The images need to be normalized and the labels need to be one-hot encoded.  You'll get to apply what you learned and build a convolutional, max pooling, dropout, and fully connected layers.  At the end, you'll get to see your neural network's predictions on the sample images.\n",
    "## Get the Data\n",
    "Run the following cell to download the [CIFAR-10 dataset for python](https://www.cs.toronto.edu/~kriz/cifar-10-python.tar.gz)."
   ]
  },
  {
   "cell_type": "code",
   "execution_count": 1,
   "metadata": {
    "collapsed": false,
    "deletable": true,
    "editable": true
   },
   "outputs": [
    {
     "name": "stdout",
     "output_type": "stream",
     "text": [
      "All files found!\n"
     ]
    }
   ],
   "source": [
    "\"\"\"\n",
    "DON'T MODIFY ANYTHING IN THIS CELL THAT IS BELOW THIS LINE\n",
    "\"\"\"\n",
    "from urllib.request import urlretrieve\n",
    "from os.path import isfile, isdir\n",
    "from tqdm import tqdm\n",
    "import problem_unittests as tests\n",
    "import tarfile\n",
    "\n",
    "cifar10_dataset_folder_path = 'cifar-10-batches-py'\n",
    "\n",
    "class DLProgress(tqdm):\n",
    "    last_block = 0\n",
    "\n",
    "    def hook(self, block_num=1, block_size=1, total_size=None):\n",
    "        self.total = total_size\n",
    "        self.update((block_num - self.last_block) * block_size)\n",
    "        self.last_block = block_num\n",
    "\n",
    "if not isfile('cifar-10-python.tar.gz'):\n",
    "    with DLProgress(unit='B', unit_scale=True, miniters=1, desc='CIFAR-10 Dataset') as pbar:\n",
    "        urlretrieve(\n",
    "            'https://www.cs.toronto.edu/~kriz/cifar-10-python.tar.gz',\n",
    "            'cifar-10-python.tar.gz',\n",
    "            pbar.hook)\n",
    "\n",
    "if not isdir(cifar10_dataset_folder_path):\n",
    "    with tarfile.open('cifar-10-python.tar.gz') as tar:\n",
    "        tar.extractall()\n",
    "        tar.close()\n",
    "\n",
    "\n",
    "tests.test_folder_path(cifar10_dataset_folder_path)"
   ]
  },
  {
   "cell_type": "markdown",
   "metadata": {
    "deletable": true,
    "editable": true
   },
   "source": [
    "## Explore the Data\n",
    "The dataset is broken into batches to prevent your machine from running out of memory.  The CIFAR-10 dataset consists of 5 batches, named `data_batch_1`, `data_batch_2`, etc.. Each batch contains the labels and images that are one of the following:\n",
    "* airplane\n",
    "* automobile\n",
    "* bird\n",
    "* cat\n",
    "* deer\n",
    "* dog\n",
    "* frog\n",
    "* horse\n",
    "* ship\n",
    "* truck\n",
    "\n",
    "Understanding a dataset is part of making predictions on the data.  Play around with the code cell below by changing the `batch_id` and `sample_id`. The `batch_id` is the id for a batch (1-5). The `sample_id` is the id for a image and label pair in the batch.\n",
    "\n",
    "Ask yourself \"What are all possible labels?\", \"What is the range of values for the image data?\", \"Are the labels in order or random?\".  Answers to questions like these will help you preprocess the data and end up with better predictions."
   ]
  },
  {
   "cell_type": "code",
   "execution_count": 2,
   "metadata": {
    "collapsed": false,
    "deletable": true,
    "editable": true
   },
   "outputs": [
    {
     "name": "stdout",
     "output_type": "stream",
     "text": [
      "\n",
      "Stats of batch 1:\n",
      "Samples: 10000\n",
      "Label Counts: {0: 1005, 1: 974, 2: 1032, 3: 1016, 4: 999, 5: 937, 6: 1030, 7: 1001, 8: 1025, 9: 981}\n",
      "First 20 Labels: [6, 9, 9, 4, 1, 1, 2, 7, 8, 3, 4, 7, 7, 2, 9, 9, 9, 3, 2, 6]\n",
      "\n",
      "Example of Image 5:\n",
      "Image - Min Value: 0 Max Value: 252\n",
      "Image - Shape: (32, 32, 3)\n",
      "Label - Label Id: 1 Name: automobile\n"
     ]
    },
    {
     "data": {
      "image/png": "[encoded data removed]",
      "text/plain": [
       "<matplotlib.figure.Figure at 0x18f86e6aa58>"
      ]
     },
     "metadata": {
      "image/png": {
       "height": 250,
       "width": 253
      }
     },
     "output_type": "display_data"
    }
   ],
   "source": [
    "%matplotlib inline\n",
    "%config InlineBackend.figure_format = 'retina'\n",
    "\n",
    "import helper\n",
    "import numpy as np\n",
    "\n",
    "# Explore the dataset\n",
    "batch_id = 1\n",
    "sample_id = 5\n",
    "helper.display_stats(cifar10_dataset_folder_path, batch_id, sample_id)"
   ]
  },
  {
   "cell_type": "markdown",
   "metadata": {
    "deletable": true,
    "editable": true
   },
   "source": [
    "## Implement Preprocess Functions\n",
    "### Normalize\n",
    "In the cell below, implement the `normalize` function to take in image data, `x`, and return it as a normalized Numpy array. The values should be in the range of 0 to 1, inclusive.  The return object should be the same shape as `x`."
   ]
  },
  {
   "cell_type": "code",
   "execution_count": 4,
   "metadata": {
    "collapsed": false,
    "deletable": true,
    "editable": true
   },
   "outputs": [
    {
     "name": "stdout",
     "output_type": "stream",
     "text": [
      "Tests Passed\n"
     ]
    }
   ],
   "source": [
    "def normalize(x):\n",
    "    \"\"\"\n",
    "    Normalize a list of sample image data in the range of 0 to 1\n",
    "    : x: List of image data.  The image shape is (32, 32, 3)\n",
    "    : return: Numpy array of normalize data\n",
    "    \"\"\"\n",
    "    # TODO: Implement Function\n",
    "    min = np.amin(x);\n",
    "    max = np.amax(x);    \n",
    "    return ( (x - min) /(max - min) )\n",
    "\n",
    "\n",
    "\"\"\"\n",
    "DON'T MODIFY ANYTHING IN THIS CELL THAT IS BELOW THIS LINE\n",
    "\"\"\"\n",
    "tests.test_normalize(normalize)"
   ]
  },
  {
   "cell_type": "markdown",
   "metadata": {
    "deletable": true,
    "editable": true
   },
   "source": [
    "### One-hot encode\n",
    "Just like the previous code cell, you'll be implementing a function for preprocessing.  This time, you'll implement the `one_hot_encode` function. The input, `x`, are a list of labels.  Implement the function to return the list of labels as One-Hot encoded Numpy array.  The possible values for labels are 0 to 9. The one-hot encoding function should return the same encoding for each value between each call to `one_hot_encode`.  Make sure to save the map of encodings outside the function.\n",
    "\n",
    "Hint: Don't reinvent the wheel."
   ]
  },
  {
   "cell_type": "code",
   "execution_count": 16,
   "metadata": {
    "collapsed": false,
    "deletable": true,
    "editable": true
   },
   "outputs": [
    {
     "name": "stdout",
     "output_type": "stream",
     "text": [
      "Tests Passed\n"
     ]
    }
   ],
   "source": [
    "from sklearn.preprocessing import LabelBinarizer\n",
    "def one_hot_encode(x):\n",
    "    \"\"\"\n",
    "    One hot encode a list of sample labels. Return a one-hot encoded vector for each label.\n",
    "    : x: List of sample Labels\n",
    "    : return: Numpy array of one-hot encoded labels\n",
    "    \"\"\"\n",
    "    # TODO: Implement Function\n",
    "    ohenc = LabelBinarizer()\n",
    "    ohenc.fit([0,1,2,3,4,5,6,7,8,9])    \n",
    "    return (ohenc.transform(x))\n",
    "\n",
    "\n",
    "\"\"\"\n",
    "DON'T MODIFY ANYTHING IN THIS CELL THAT IS BELOW THIS LINE\n",
    "\"\"\"\n",
    "tests.test_one_hot_encode(one_hot_encode)"
   ]
  },
  {
   "cell_type": "markdown",
   "metadata": {
    "deletable": true,
    "editable": true
   },
   "source": [
    "### Randomize Data\n",
    "As you saw from exploring the data above, the order of the samples are randomized.  It doesn't hurt to randomize it again, but you don't need to for this dataset."
   ]
  },
  {
   "cell_type": "markdown",
   "metadata": {
    "deletable": true,
    "editable": true
   },
   "source": [
    "## Preprocess all the data and save it\n",
    "Running the code cell below will preprocess all the CIFAR-10 data and save it to file. The code below also uses 10% of the training data for validation."
   ]
  },
  {
   "cell_type": "code",
   "execution_count": 17,
   "metadata": {
    "collapsed": false,
    "deletable": true,
    "editable": true
   },
   "outputs": [],
   "source": [
    "\"\"\"\n",
    "DON'T MODIFY ANYTHING IN THIS CELL\n",
    "\"\"\"\n",
    "# Preprocess Training, Validation, and Testing Data\n",
    "helper.preprocess_and_save_data(cifar10_dataset_folder_path, normalize, one_hot_encode)"
   ]
  },
  {
   "cell_type": "markdown",
   "metadata": {
    "deletable": true,
    "editable": true
   },
   "source": [
    "# Check Point\n",
    "This is your first checkpoint.  If you ever decide to come back to this notebook or have to restart the notebook, you can start from here.  The preprocessed data has been saved to disk."
   ]
  },
  {
   "cell_type": "code",
   "execution_count": 1,
   "metadata": {
    "collapsed": true,
    "deletable": true,
    "editable": true
   },
   "outputs": [],
   "source": [
    "\"\"\"\n",
    "DON'T MODIFY ANYTHING IN THIS CELL\n",
    "\"\"\"\n",
    "import pickle\n",
    "import problem_unittests as tests\n",
    "import helper\n",
    "\n",
    "# Load the Preprocessed Validation data\n",
    "valid_features, valid_labels = pickle.load(open('preprocess_validation.p', mode='rb'))"
   ]
  },
  {
   "cell_type": "markdown",
   "metadata": {
    "deletable": true,
    "editable": true
   },
   "source": [
    "## Build the network\n",
    "For the neural network, you'll build each layer into a function.  Most of the code you've seen has been outside of functions. To test your code more thoroughly, we require that you put each layer in a function.  This allows us to give you better feedback and test for simple mistakes using our unittests before you submit your project.\n",
    "\n",
    "If you're finding it hard to dedicate enough time for this course a week, we've provided a small shortcut to this part of the project. In the next couple of problems, you'll have the option to use [TensorFlow Layers](https://www.tensorflow.org/api_docs/python/tf/layers) or [TensorFlow Layers (contrib)](https://www.tensorflow.org/api_guides/python/contrib.layers) to build each layer, except \"Convolutional & Max Pooling\" layer.  TF Layers is similar to Keras's and TFLearn's abstraction to layers, so it's easy to pickup.\n",
    "\n",
    "If you would like to get the most of this course, try to solve all the problems without TF Layers.  Let's begin!\n",
    "### Input\n",
    "The neural network needs to read the image data, one-hot encoded labels, and dropout keep probability. Implement the following functions\n",
    "* Implement `neural_net_image_input`\n",
    " * Return a [TF Placeholder](https://www.tensorflow.org/api_docs/python/tf/placeholder)\n",
    " * Set the shape using `image_shape` with batch size set to `None`.\n",
    " * Name the TensorFlow placeholder \"x\" using the TensorFlow `name` parameter in the [TF Placeholder](https://www.tensorflow.org/api_docs/python/tf/placeholder).\n",
    "* Implement `neural_net_label_input`\n",
    " * Return a [TF Placeholder](https://www.tensorflow.org/api_docs/python/tf/placeholder)\n",
    " * Set the shape using `n_classes` with batch size set to `None`.\n",
    " * Name the TensorFlow placeholder \"y\" using the TensorFlow `name` parameter in the [TF Placeholder](https://www.tensorflow.org/api_docs/python/tf/placeholder).\n",
    "* Implement `neural_net_keep_prob_input`\n",
    " * Return a [TF Placeholder](https://www.tensorflow.org/api_docs/python/tf/placeholder) for dropout keep probability.\n",
    " * Name the TensorFlow placeholder \"keep_prob\" using the TensorFlow `name` parameter in the [TF Placeholder](https://www.tensorflow.org/api_docs/python/tf/placeholder).\n",
    "\n",
    "These names will be used at the end of the project to load your saved model.\n",
    "\n",
    "Note: `None` for shapes in TensorFlow allow for a dynamic size."
   ]
  },
  {
   "cell_type": "code",
   "execution_count": 2,
   "metadata": {
    "collapsed": false,
    "deletable": true,
    "editable": true
   },
   "outputs": [
    {
     "name": "stdout",
     "output_type": "stream",
     "text": [
      "Image Input Tests Passed.\n",
      "Label Input Tests Passed.\n",
      "Keep Prob Tests Passed.\n"
     ]
    }
   ],
   "source": [
    "import tensorflow as tf\n",
    "\n",
    "def neural_net_image_input(image_shape):\n",
    "    \"\"\"\n",
    "    Return a Tensor for a bach of image input\n",
    "    : image_shape: Shape of the images\n",
    "    : return: Tensor for image input.\n",
    "    \"\"\"\n",
    "    # TODO: Implement Function    \n",
    "    x = tf.placeholder(\"float\", [None, image_shape[0], image_shape[1], image_shape[2]], name='x')\n",
    "    return x\n",
    "\n",
    "\n",
    "def neural_net_label_input(n_classes):\n",
    "    \"\"\"\n",
    "    Return a Tensor for a batch of label input\n",
    "    : n_classes: Number of classes\n",
    "    : return: Tensor for label input.\n",
    "    \"\"\"\n",
    "    # TODO: Implement Function\n",
    "    y = tf.placeholder(\"float\", [None, n_classes], name='y')\n",
    "    return y\n",
    "\n",
    "\n",
    "def neural_net_keep_prob_input():\n",
    "    \"\"\"\n",
    "    Return a Tensor for keep probability\n",
    "    : return: Tensor for keep probability.\n",
    "    \"\"\"\n",
    "    # TODO: Implement Function\n",
    "    k = tf.placeholder(\"float\",name='keep_prob')\n",
    "    return k\n",
    "\n",
    "\n",
    "\"\"\"\n",
    "DON'T MODIFY ANYTHING IN THIS CELL THAT IS BELOW THIS LINE\n",
    "\"\"\"\n",
    "tf.reset_default_graph()\n",
    "tests.test_nn_image_inputs(neural_net_image_input)\n",
    "tests.test_nn_label_inputs(neural_net_label_input)\n",
    "tests.test_nn_keep_prob_inputs(neural_net_keep_prob_input)"
   ]
  },
  {
   "cell_type": "markdown",
   "metadata": {
    "deletable": true,
    "editable": true
   },
   "source": [
    "### Convolution and Max Pooling Layer\n",
    "Convolution layers have a lot of success with images. For this code cell, you should implement the function `conv2d_maxpool` to apply convolution then max pooling:\n",
    "* Create the weight and bias using `conv_ksize`, `conv_num_outputs` and the shape of `x_tensor`.\n",
    "* Apply a convolution to `x_tensor` using weight and `conv_strides`.\n",
    " * We recommend you use same padding, but you're welcome to use any padding.\n",
    "* Add bias\n",
    "* Add a nonlinear activation to the convolution.\n",
    "* Apply Max Pooling using `pool_ksize` and `pool_strides`.\n",
    " * We recommend you use same padding, but you're welcome to use any padding.\n",
    "\n",
    "Note: You **can't** use [TensorFlow Layers](https://www.tensorflow.org/api_docs/python/tf/layers) or [TensorFlow Layers (contrib)](https://www.tensorflow.org/api_guides/python/contrib.layers) for this layer.  You're free to use any TensorFlow package for all the other layers."
   ]
  },
  {
   "cell_type": "code",
   "execution_count": 3,
   "metadata": {
    "collapsed": false,
    "deletable": true,
    "editable": true
   },
   "outputs": [
    {
     "name": "stdout",
     "output_type": "stream",
     "text": [
      "Tests Passed\n"
     ]
    }
   ],
   "source": [
    "def conv2d_maxpool(x_tensor, conv_num_outputs, conv_ksize, conv_strides, pool_ksize, pool_strides):\n",
    "    \"\"\"\n",
    "    Apply convolution then max pooling to x_tensor\n",
    "    :param x_tensor: TensorFlow Tensor\n",
    "    :param conv_num_outputs: Number of outputs for the convolutional layer\n",
    "    :param conv_strides: Stride 2-D Tuple for convolution\n",
    "    :param pool_ksize: kernal size 2-D Tuple for pool\n",
    "    :param pool_strides: Stride 2-D Tuple for pool\n",
    "    : return: A tensor that represents convolution and max pooling of x_tensor\n",
    "    \"\"\"\n",
    "    # TODO: Implement Function    \n",
    "    dim = x_tensor.get_shape()        \n",
    "    weight = tf.Variable(tf.truncated_normal([conv_ksize[0], conv_ksize[1], dim[3].value, conv_num_outputs]))        \n",
    "    bias = tf.Variable(tf.zeros(conv_num_outputs))\n",
    "    \n",
    "    # Apply Convolution        \n",
    "    conv_layer = tf.nn.conv2d(x_tensor, weight, strides=[1,conv_strides[0],conv_strides[1],1], padding='SAME')\n",
    "    # Add bias\n",
    "    conv_layer = tf.nn.bias_add(conv_layer, bias)\n",
    "    # Apply activation function\n",
    "    conv_layer = tf.nn.relu(conv_layer)      \n",
    "    conv_layer = tf.nn.max_pool(conv_layer,ksize=[1,pool_ksize[0],pool_ksize[1],1],strides=[1,pool_strides[0],pool_strides[1],1],padding='SAME')\n",
    "    return conv_layer \n",
    "\n",
    "\n",
    "\"\"\"\n",
    "DON'T MODIFY ANYTHING IN THIS CELL THAT IS BELOW THIS LINE\n",
    "\"\"\"\n",
    "tests.test_con_pool(conv2d_maxpool)"
   ]
  },
  {
   "cell_type": "markdown",
   "metadata": {
    "deletable": true,
    "editable": true
   },
   "source": [
    "### Flatten Layer\n",
    "Implement the `flatten` function to change the dimension of `x_tensor` from a 4-D tensor to a 2-D tensor.  The output should be the shape (*Batch Size*, *Flattened Image Size*). You can use [TensorFlow Layers](https://www.tensorflow.org/api_docs/python/tf/layers) or [TensorFlow Layers (contrib)](https://www.tensorflow.org/api_guides/python/contrib.layers) for this layer."
   ]
  },
  {
   "cell_type": "code",
   "execution_count": 4,
   "metadata": {
    "collapsed": false,
    "deletable": true,
    "editable": true
   },
   "outputs": [
    {
     "name": "stdout",
     "output_type": "stream",
     "text": [
      "Tests Passed\n"
     ]
    }
   ],
   "source": [
    "import numpy as np\n",
    "def flatten(x_tensor):\n",
    "    \"\"\"\n",
    "    Flatten x_tensor to (Batch Size, Flattened Image Size)\n",
    "    : x_tensor: A tensor of size (Batch Size, ...), where ... are the image dimensions.\n",
    "    : return: A tensor of size (Batch Size, Flattened Image Size).\n",
    "    \"\"\"\n",
    "    # TODO: Implement Function\n",
    "    dim = x_tensor.get_shape().as_list()    \n",
    "    fc = tf.reshape(x_tensor, [-1,dim[1]*dim[2]*dim[3]])     \n",
    "    return fc\n",
    "\n",
    "\n",
    "\"\"\"\n",
    "DON'T MODIFY ANYTHING IN THIS CELL THAT IS BELOW THIS LINE\n",
    "\"\"\"\n",
    "tests.test_flatten(flatten)"
   ]
  },
  {
   "cell_type": "markdown",
   "metadata": {
    "deletable": true,
    "editable": true
   },
   "source": [
    "### Fully-Connected Layer\n",
    "Implement the `fully_conn` function to apply a fully connected layer to `x_tensor` with the shape (*Batch Size*, *num_outputs*). You can use [TensorFlow Layers](https://www.tensorflow.org/api_docs/python/tf/layers) or [TensorFlow Layers (contrib)](https://www.tensorflow.org/api_guides/python/contrib.layers) for this layer."
   ]
  },
  {
   "cell_type": "code",
   "execution_count": 5,
   "metadata": {
    "collapsed": false,
    "deletable": true,
    "editable": true
   },
   "outputs": [
    {
     "name": "stdout",
     "output_type": "stream",
     "text": [
      "Tests Passed\n"
     ]
    }
   ],
   "source": [
    "def fully_conn(x_tensor, num_outputs):\n",
    "    \"\"\"\n",
    "    Apply a fully connected layer to x_tensor using weight and bias\n",
    "    : x_tensor: A 2-D tensor where the first dimension is batch size.\n",
    "    : num_outputs: The number of output that the new tensor should be.\n",
    "    : return: A 2-D tensor where the second dimension is num_outputs.\n",
    "    \"\"\"\n",
    "    # TODO: Implement Function    \n",
    "    dim = x_tensor.get_shape().as_list()            \n",
    "    fc_weight = tf.Variable(tf.truncated_normal([dim[1], num_outputs]))        \n",
    "    fc_bias = tf.Variable(tf.zeros(num_outputs))\n",
    "    \n",
    "    # Apply multiplication        \n",
    "    fc_layer = tf.matmul(x_tensor, fc_weight)\n",
    "    # Add bias\n",
    "    fc_layer = tf.nn.bias_add(fc_layer, fc_bias)\n",
    "    # Apply activation function\n",
    "    fc_output = tf.nn.relu(fc_layer)          \n",
    "    return fc_output\n",
    "\n",
    "\n",
    "\"\"\"\n",
    "DON'T MODIFY ANYTHING IN THIS CELL THAT IS BELOW THIS LINE\n",
    "\"\"\"\n",
    "tests.test_fully_conn(fully_conn)"
   ]
  },
  {
   "cell_type": "markdown",
   "metadata": {
    "deletable": true,
    "editable": true
   },
   "source": [
    "### Output Layer\n",
    "Implement the `output` function to apply a fully connected layer to `x_tensor` with the shape (*Batch Size*, *num_outputs*). You can use [TensorFlow Layers](https://www.tensorflow.org/api_docs/python/tf/layers) or [TensorFlow Layers (contrib)](https://www.tensorflow.org/api_guides/python/contrib.layers) for this layer.\n",
    "\n",
    "Note: Activation, softmax, or cross entropy shouldn't be applied to this."
   ]
  },
  {
   "cell_type": "code",
   "execution_count": 6,
   "metadata": {
    "collapsed": false,
    "deletable": true,
    "editable": true
   },
   "outputs": [
    {
     "name": "stdout",
     "output_type": "stream",
     "text": [
      "Tests Passed\n"
     ]
    }
   ],
   "source": [
    "def output(x_tensor, num_outputs):\n",
    "    \"\"\"\n",
    "    Apply a output layer to x_tensor using weight and bias\n",
    "    : x_tensor: A 2-D tensor where the first dimension is batch size.\n",
    "    : num_outputs: The number of output that the new tensor should be.\n",
    "    : return: A 2-D tensor where the second dimension is num_outputs.\n",
    "    \"\"\"\n",
    "    # TODO: Implement Function\n",
    "    dim = x_tensor.get_shape().as_list()            \n",
    "    out_weight = tf.Variable(tf.truncated_normal([dim[1], num_outputs]))        \n",
    "    out_bias = tf.Variable(tf.zeros(num_outputs))\n",
    "    \n",
    "    # Apply multiplication        \n",
    "    out_layer = tf.matmul(x_tensor, out_weight)\n",
    "    # Add bias\n",
    "    output = tf.nn.bias_add(out_layer, out_bias)\n",
    "    return output\n",
    "\n",
    "\n",
    "\"\"\"\n",
    "DON'T MODIFY ANYTHING IN THIS CELL THAT IS BELOW THIS LINE\n",
    "\"\"\"\n",
    "tests.test_output(output)"
   ]
  },
  {
   "cell_type": "markdown",
   "metadata": {
    "deletable": true,
    "editable": true
   },
   "source": [
    "### Create Convolutional Model\n",
    "Implement the function `conv_net` to create a convolutional neural network model. The function takes in a batch of images, `x`, and outputs logits.  Use the layers you created above to create this model:\n",
    "\n",
    "* Apply 1, 2, or 3 Convolution and Max Pool layers\n",
    "* Apply a Flatten Layer\n",
    "* Apply 1, 2, or 3 Fully Connected Layers\n",
    "* Apply an Output Layer\n",
    "* Return the output\n",
    "* Apply [TensorFlow's Dropout](https://www.tensorflow.org/api_docs/python/tf/nn/dropout) to one or more layers in the model using `keep_prob`. "
   ]
  },
  {
   "cell_type": "code",
   "execution_count": 12,
   "metadata": {
    "collapsed": false,
    "deletable": true,
    "editable": true
   },
   "outputs": [
    {
     "name": "stdout",
     "output_type": "stream",
     "text": [
      "Neural Network Built!\n"
     ]
    }
   ],
   "source": [
    "def conv_net(x, keep_prob):\n",
    "    \"\"\"\n",
    "    Create a convolutional neural network model\n",
    "    : x: Placeholder tensor that holds image data.\n",
    "    : keep_prob: Placeholder tensor that hold dropout keep probability.\n",
    "    : return: Tensor that represents logits\n",
    "    \"\"\"\n",
    "    # TODO: Apply 1, 2, or 3 Convolution and Max Pool layers\n",
    "    #    Play around with different number of outputs, kernel size and stride\n",
    "    # Function Definition from Above:\n",
    "    #    conv2d_maxpool(x_tensor, conv_num_outputs, conv_ksize, conv_strides, pool_ksize, pool_strides)\n",
    "    conv_out = conv2d_maxpool(x, 32, [3,3], [1,1], [2,2], [2,2])#64\n",
    "    conv_out = conv2d_maxpool(conv_out, 128, [3,3], [1,1], [2,2], [2,2])#256\n",
    "    conv_out = conv2d_maxpool(conv_out, 256, [3,3], [1,1], [2,2], [2,2])#1024\n",
    "\n",
    "    # TODO: Apply a Flatten Layer\n",
    "    # Function Definition from Above:\n",
    "    #   flatten(x_tensor)\n",
    "    flatten_put = flatten(conv_out)\n",
    "\n",
    "    # TODO: Apply 1, 2, or 3 Fully Connected Layers\n",
    "    #    Play around with different number of outputs\n",
    "    # Function Definition from Above:\n",
    "    #   fully_conn(x_tensor, num_outputs)    \n",
    "    fc_out = fully_conn(flatten_put,4096)\n",
    "    fc_out = tf.nn.dropout(fc_out, keep_prob)\n",
    "    fc_out = fully_conn(fc_out,2048)\n",
    "    #fc_out = fully_conn(fc_out,256)\n",
    "    \n",
    "    # TODO: Apply an Output Layer\n",
    "    #    Set this to the number of classes\n",
    "    # Function Definition from Above:\n",
    "    #   output(x_tensor, num_outputs)\n",
    "    out = output(fc_out,10)\n",
    "    \n",
    "    # TODO: return output\n",
    "    return out\n",
    "\n",
    "\n",
    "\"\"\"\n",
    "DON'T MODIFY ANYTHING IN THIS CELL THAT IS BELOW THIS LINE\n",
    "\"\"\"\n",
    "\n",
    "##############################\n",
    "## Build the Neural Network ##\n",
    "##############################\n",
    "\n",
    "# Remove previous weights, bias, inputs, etc..\n",
    "tf.reset_default_graph()\n",
    "\n",
    "# Inputs\n",
    "x = neural_net_image_input((32, 32, 3))\n",
    "y = neural_net_label_input(10)\n",
    "keep_prob = neural_net_keep_prob_input()\n",
    "\n",
    "# Model\n",
    "logits = conv_net(x, keep_prob)\n",
    "\n",
    "# Name logits Tensor, so that is can be loaded from disk after training\n",
    "logits = tf.identity(logits, name='logits')\n",
    "\n",
    "# Loss and Optimizer\n",
    "cost = tf.reduce_mean(tf.nn.softmax_cross_entropy_with_logits(logits=logits, labels=y))\n",
    "optimizer = tf.train.AdamOptimizer().minimize(cost)\n",
    "\n",
    "# Accuracy\n",
    "correct_pred = tf.equal(tf.argmax(logits, 1), tf.argmax(y, 1))\n",
    "accuracy = tf.reduce_mean(tf.cast(correct_pred, tf.float32), name='accuracy')\n",
    "\n",
    "tests.test_conv_net(conv_net)"
   ]
  },
  {
   "cell_type": "markdown",
   "metadata": {
    "deletable": true,
    "editable": true
   },
   "source": [
    "## Train the Neural Network\n",
    "### Single Optimization\n",
    "Implement the function `train_neural_network` to do a single optimization.  The optimization should use `optimizer` to optimize in `session` with a `feed_dict` of the following:\n",
    "* `x` for image input\n",
    "* `y` for labels\n",
    "* `keep_prob` for keep probability for dropout\n",
    "\n",
    "This function will be called for each batch, so `tf.global_variables_initializer()` has already been called.\n",
    "\n",
    "Note: Nothing needs to be returned. This function is only optimizing the neural network."
   ]
  },
  {
   "cell_type": "code",
   "execution_count": 8,
   "metadata": {
    "collapsed": false,
    "deletable": true,
    "editable": true
   },
   "outputs": [
    {
     "name": "stdout",
     "output_type": "stream",
     "text": [
      "Tests Passed\n"
     ]
    }
   ],
   "source": [
    "def train_neural_network(session, optimizer, keep_probability, feature_batch, label_batch):\n",
    "    \"\"\"\n",
    "    Optimize the session on a batch of images and labels\n",
    "    : session: Current TensorFlow session\n",
    "    : optimizer: TensorFlow optimizer function\n",
    "    : keep_probability: keep probability\n",
    "    : feature_batch: Batch of Numpy image data\n",
    "    : label_batch: Batch of Numpy label data\n",
    "    \"\"\"\n",
    "    # TODO: Implement Function\n",
    "    session.run(optimizer, feed_dict={\n",
    "                x: feature_batch,\n",
    "                y: label_batch,\n",
    "                keep_prob: keep_probability})\n",
    "    pass\n",
    "\n",
    "\n",
    "\"\"\"\n",
    "DON'T MODIFY ANYTHING IN THIS CELL THAT IS BELOW THIS LINE\n",
    "\"\"\"\n",
    "tests.test_train_nn(train_neural_network)"
   ]
  },
  {
   "cell_type": "markdown",
   "metadata": {
    "deletable": true,
    "editable": true
   },
   "source": [
    "### Show Stats\n",
    "Implement the function `print_stats` to print loss and validation accuracy.  Use the global variables `valid_features` and `valid_labels` to calculate validation accuracy.  Use a keep probability of `1.0` to calculate the loss and validation accuracy."
   ]
  },
  {
   "cell_type": "code",
   "execution_count": 9,
   "metadata": {
    "collapsed": false,
    "deletable": true,
    "editable": true
   },
   "outputs": [],
   "source": [
    "def print_stats(session, feature_batch, label_batch, cost, accuracy):\n",
    "    \"\"\"\n",
    "    Print information about loss and validation accuracy\n",
    "    : session: Current TensorFlow session\n",
    "    : feature_batch: Batch of Numpy image data\n",
    "    : label_batch: Batch of Numpy label data\n",
    "    : cost: TensorFlow cost function\n",
    "    : accuracy: TensorFlow accuracy function\n",
    "    \"\"\"\n",
    "    # TODO: Implement Function\n",
    "    loss = session.run(cost, feed_dict={\n",
    "                       x: feature_batch,\n",
    "                       y: label_batch,\n",
    "                       keep_prob: 1})\n",
    "    acc = session.run(accuracy, feed_dict={\n",
    "                       x: valid_features,\n",
    "                       y: valid_labels,\n",
    "                       keep_prob: 1})\n",
    "    print('Loss: {:>10.4f} Validation Accuracy: {:.6f}'.format(loss,acc))\n",
    "    pass"
   ]
  },
  {
   "cell_type": "markdown",
   "metadata": {
    "deletable": true,
    "editable": true
   },
   "source": [
    "### Hyperparameters\n",
    "Tune the following parameters:\n",
    "* Set `epochs` to the number of iterations until the network stops learning or start overfitting\n",
    "* Set `batch_size` to the highest number that your machine has memory for.  Most people set them to common sizes of memory:\n",
    " * 64\n",
    " * 128\n",
    " * 256\n",
    " * ...\n",
    "* Set `keep_probability` to the probability of keeping a node using dropout"
   ]
  },
  {
   "cell_type": "code",
   "execution_count": 10,
   "metadata": {
    "collapsed": true,
    "deletable": true,
    "editable": true
   },
   "outputs": [],
   "source": [
    "# TODO: Tune Parameters\n",
    "epochs = 30\n",
    "batch_size = 512\n",
    "keep_probability = 0.90"
   ]
  },
  {
   "cell_type": "markdown",
   "metadata": {
    "deletable": true,
    "editable": true
   },
   "source": [
    "### Train on a Single CIFAR-10 Batch\n",
    "Instead of training the neural network on all the CIFAR-10 batches of data, let's use a single batch. This should save time while you iterate on the model to get a better accuracy.  Once the final validation accuracy is 50% or greater, run the model on all the data in the next section."
   ]
  },
  {
   "cell_type": "code",
   "execution_count": 16,
   "metadata": {
    "collapsed": false,
    "deletable": true,
    "editable": true,
    "scrolled": true
   },
   "outputs": [
    {
     "name": "stdout",
     "output_type": "stream",
     "text": [
      "Checking the Training on a Single Batch...\n",
      "Epoch  1, CIFAR-10 Batch 1:  Loss: 18418974.0000 Validation Accuracy: 0.233600\n",
      "Epoch  2, CIFAR-10 Batch 1:  Loss: 6123805.0000 Validation Accuracy: 0.336000\n",
      "Epoch  3, CIFAR-10 Batch 1:  Loss: 4695520.0000 Validation Accuracy: 0.359800\n",
      "Epoch  4, CIFAR-10 Batch 1:  Loss: 3560244.5000 Validation Accuracy: 0.390400\n",
      "Epoch  5, CIFAR-10 Batch 1:  Loss: 3005251.7500 Validation Accuracy: 0.417400\n",
      "Epoch  6, CIFAR-10 Batch 1:  Loss: 2371926.5000 Validation Accuracy: 0.430000\n",
      "Epoch  7, CIFAR-10 Batch 1:  Loss: 2131690.7500 Validation Accuracy: 0.434600\n",
      "Epoch  8, CIFAR-10 Batch 1:  Loss: 1711472.1250 Validation Accuracy: 0.444600\n",
      "Epoch  9, CIFAR-10 Batch 1:  Loss: 1411392.2500 Validation Accuracy: 0.443400\n",
      "Epoch 10, CIFAR-10 Batch 1:  Loss: 1190219.8750 Validation Accuracy: 0.451600\n",
      "Epoch 11, CIFAR-10 Batch 1:  Loss: 1030813.3125 Validation Accuracy: 0.444600\n",
      "Epoch 12, CIFAR-10 Batch 1:  Loss: 833215.3125 Validation Accuracy: 0.456800\n",
      "Epoch 13, CIFAR-10 Batch 1:  Loss: 704607.1875 Validation Accuracy: 0.469400\n",
      "Epoch 14, CIFAR-10 Batch 1:  Loss: 580752.8750 Validation Accuracy: 0.461800\n",
      "Epoch 15, CIFAR-10 Batch 1:  Loss: 472142.4375 Validation Accuracy: 0.472200\n",
      "Epoch 16, CIFAR-10 Batch 1:  Loss: 410274.2500 Validation Accuracy: 0.480200\n",
      "Epoch 17, CIFAR-10 Batch 1:  Loss: 408314.8750 Validation Accuracy: 0.465400\n",
      "Epoch 18, CIFAR-10 Batch 1:  Loss: 340528.7812 Validation Accuracy: 0.482400\n",
      "Epoch 19, CIFAR-10 Batch 1:  Loss: 251588.6094 Validation Accuracy: 0.478800\n",
      "Epoch 20, CIFAR-10 Batch 1:  Loss: 185332.0781 Validation Accuracy: 0.491200\n",
      "Epoch 21, CIFAR-10 Batch 1:  Loss: 214187.3750 Validation Accuracy: 0.478600\n",
      "Epoch 22, CIFAR-10 Batch 1:  Loss: 172345.8906 Validation Accuracy: 0.488000\n",
      "Epoch 23, CIFAR-10 Batch 1:  Loss: 138929.5312 Validation Accuracy: 0.494800\n",
      "Epoch 24, CIFAR-10 Batch 1:  Loss: 134584.1562 Validation Accuracy: 0.482800\n",
      "Epoch 25, CIFAR-10 Batch 1:  Loss: 138423.2969 Validation Accuracy: 0.482600\n",
      "Epoch 26, CIFAR-10 Batch 1:  Loss: 79519.1797 Validation Accuracy: 0.493400\n",
      "Epoch 27, CIFAR-10 Batch 1:  Loss: 50401.7891 Validation Accuracy: 0.491000\n",
      "Epoch 28, CIFAR-10 Batch 1:  Loss: 43186.3477 Validation Accuracy: 0.494200\n",
      "Epoch 29, CIFAR-10 Batch 1:  Loss: 37436.2617 Validation Accuracy: 0.481400\n",
      "Epoch 30, CIFAR-10 Batch 1:  Loss: 33479.5234 Validation Accuracy: 0.499600\n",
      "Epoch 31, CIFAR-10 Batch 1:  Loss: 21566.3809 Validation Accuracy: 0.490800\n",
      "Epoch 32, CIFAR-10 Batch 1:  Loss: 21060.7305 Validation Accuracy: 0.492000\n",
      "Epoch 33, CIFAR-10 Batch 1:  Loss: 11445.6914 Validation Accuracy: 0.494800\n",
      "Epoch 34, CIFAR-10 Batch 1:  Loss: 12617.8281 Validation Accuracy: 0.487800\n",
      "Epoch 35, CIFAR-10 Batch 1:  Loss: 12729.6934 Validation Accuracy: 0.502400\n"
     ]
    }
   ],
   "source": [
    "\"\"\"\n",
    "DON'T MODIFY ANYTHING IN THIS CELL\n",
    "\"\"\"\n",
    "print('Checking the Training on a Single Batch...')\n",
    "with tf.Session() as sess:\n",
    "    # Initializing the variables\n",
    "    sess.run(tf.global_variables_initializer())\n",
    "    \n",
    "    # Training cycle\n",
    "    for epoch in range(epochs):\n",
    "        batch_i = 1\n",
    "        for batch_features, batch_labels in helper.load_preprocess_training_batch(batch_i, batch_size):\n",
    "            train_neural_network(sess, optimizer, keep_probability, batch_features, batch_labels)\n",
    "        print('Epoch {:>2}, CIFAR-10 Batch {}:  '.format(epoch + 1, batch_i), end='')\n",
    "        print_stats(sess, batch_features, batch_labels, cost, accuracy)"
   ]
  },
  {
   "cell_type": "markdown",
   "metadata": {
    "deletable": true,
    "editable": true
   },
   "source": [
    "##### Fully Train the Model\n",
    "Now that you got a good accuracy with a single CIFAR-10 batch, try it with all five batches."
   ]
  },
  {
   "cell_type": "code",
   "execution_count": 13,
   "metadata": {
    "collapsed": false,
    "deletable": true,
    "editable": true,
    "scrolled": true
   },
   "outputs": [
    {
     "name": "stdout",
     "output_type": "stream",
     "text": [
      "Training...\n",
      "Epoch  1, CIFAR-10 Batch 1:  Loss: 12387564.0000 Validation Accuracy: 0.186600\n",
      "Epoch  1, CIFAR-10 Batch 2:  Loss: 4345908.5000 Validation Accuracy: 0.309000\n",
      "Epoch  1, CIFAR-10 Batch 3:  Loss: 3464191.7500 Validation Accuracy: 0.347200\n",
      "Epoch  1, CIFAR-10 Batch 4:  Loss: 2838068.5000 Validation Accuracy: 0.374200\n",
      "Epoch  1, CIFAR-10 Batch 5:  Loss: 2285320.5000 Validation Accuracy: 0.376000\n",
      "Epoch  2, CIFAR-10 Batch 1:  Loss: 2250272.5000 Validation Accuracy: 0.392400\n",
      "Epoch  2, CIFAR-10 Batch 2:  Loss: 1958833.6250 Validation Accuracy: 0.407000\n",
      "Epoch  2, CIFAR-10 Batch 3:  Loss: 1964893.5000 Validation Accuracy: 0.407000\n",
      "Epoch  2, CIFAR-10 Batch 4:  Loss: 1421315.7500 Validation Accuracy: 0.406600\n",
      "Epoch  2, CIFAR-10 Batch 5:  Loss: 1348562.1250 Validation Accuracy: 0.425600\n",
      "Epoch  3, CIFAR-10 Batch 1:  Loss: 1302753.0000 Validation Accuracy: 0.435200\n",
      "Epoch  3, CIFAR-10 Batch 2:  Loss: 1252175.0000 Validation Accuracy: 0.435000\n",
      "Epoch  3, CIFAR-10 Batch 3:  Loss: 1213267.1250 Validation Accuracy: 0.422600\n",
      "Epoch  3, CIFAR-10 Batch 4:  Loss: 801558.3125 Validation Accuracy: 0.447400\n",
      "Epoch  3, CIFAR-10 Batch 5:  Loss: 872131.8750 Validation Accuracy: 0.449800\n",
      "Epoch  4, CIFAR-10 Batch 1:  Loss: 844872.6250 Validation Accuracy: 0.455200\n",
      "Epoch  4, CIFAR-10 Batch 2:  Loss: 808325.5000 Validation Accuracy: 0.460800\n",
      "Epoch  4, CIFAR-10 Batch 3:  Loss: 723961.0000 Validation Accuracy: 0.459200\n",
      "Epoch  4, CIFAR-10 Batch 4:  Loss: 528928.6875 Validation Accuracy: 0.461800\n",
      "Epoch  4, CIFAR-10 Batch 5:  Loss: 606216.0000 Validation Accuracy: 0.471200\n",
      "Epoch  5, CIFAR-10 Batch 1:  Loss: 569437.6250 Validation Accuracy: 0.466200\n",
      "Epoch  5, CIFAR-10 Batch 2:  Loss: 554250.5625 Validation Accuracy: 0.472800\n",
      "Epoch  5, CIFAR-10 Batch 3:  Loss: 464438.2812 Validation Accuracy: 0.477400\n",
      "Epoch  5, CIFAR-10 Batch 4:  Loss: 366045.3125 Validation Accuracy: 0.464600\n",
      "Epoch  5, CIFAR-10 Batch 5:  Loss: 427772.5625 Validation Accuracy: 0.472400\n",
      "Epoch  6, CIFAR-10 Batch 1:  Loss: 417552.5625 Validation Accuracy: 0.482000\n",
      "Epoch  6, CIFAR-10 Batch 2:  Loss: 446215.6562 Validation Accuracy: 0.476200\n",
      "Epoch  6, CIFAR-10 Batch 3:  Loss: 360366.1562 Validation Accuracy: 0.472200\n",
      "Epoch  6, CIFAR-10 Batch 4:  Loss: 256111.8594 Validation Accuracy: 0.482800\n",
      "Epoch  6, CIFAR-10 Batch 5:  Loss: 316410.7812 Validation Accuracy: 0.469800\n",
      "Epoch  7, CIFAR-10 Batch 1:  Loss: 316365.6875 Validation Accuracy: 0.485200\n",
      "Epoch  7, CIFAR-10 Batch 2:  Loss: 311348.1562 Validation Accuracy: 0.479400\n",
      "Epoch  7, CIFAR-10 Batch 3:  Loss: 256494.4688 Validation Accuracy: 0.478400\n",
      "Epoch  7, CIFAR-10 Batch 4:  Loss: 185975.8281 Validation Accuracy: 0.488400\n",
      "Epoch  7, CIFAR-10 Batch 5:  Loss: 242001.6250 Validation Accuracy: 0.477800\n",
      "Epoch  8, CIFAR-10 Batch 1:  Loss: 243661.0312 Validation Accuracy: 0.485200\n",
      "Epoch  8, CIFAR-10 Batch 2:  Loss: 238505.7812 Validation Accuracy: 0.478400\n",
      "Epoch  8, CIFAR-10 Batch 3:  Loss: 187527.4219 Validation Accuracy: 0.481000\n",
      "Epoch  8, CIFAR-10 Batch 4:  Loss: 149812.4062 Validation Accuracy: 0.486000\n",
      "Epoch  8, CIFAR-10 Batch 5:  Loss: 186692.2500 Validation Accuracy: 0.479000\n",
      "Epoch  9, CIFAR-10 Batch 1:  Loss: 195807.8281 Validation Accuracy: 0.485400\n",
      "Epoch  9, CIFAR-10 Batch 2:  Loss: 184919.5000 Validation Accuracy: 0.481200\n",
      "Epoch  9, CIFAR-10 Batch 3:  Loss: 130741.0938 Validation Accuracy: 0.485200\n",
      "Epoch  9, CIFAR-10 Batch 4:  Loss: 101651.5547 Validation Accuracy: 0.491000\n",
      "Epoch  9, CIFAR-10 Batch 5:  Loss: 126922.8125 Validation Accuracy: 0.482200\n",
      "Epoch 10, CIFAR-10 Batch 1:  Loss: 138031.1094 Validation Accuracy: 0.489200\n",
      "Epoch 10, CIFAR-10 Batch 2:  Loss: 141876.8906 Validation Accuracy: 0.485600\n",
      "Epoch 10, CIFAR-10 Batch 3:  Loss: 106643.2969 Validation Accuracy: 0.481400\n",
      "Epoch 10, CIFAR-10 Batch 4:  Loss: 89211.2500 Validation Accuracy: 0.494000\n",
      "Epoch 10, CIFAR-10 Batch 5:  Loss: 95835.2031 Validation Accuracy: 0.488200\n",
      "Epoch 11, CIFAR-10 Batch 1:  Loss: 121078.2031 Validation Accuracy: 0.495600\n",
      "Epoch 11, CIFAR-10 Batch 2:  Loss: 108844.5234 Validation Accuracy: 0.490400\n",
      "Epoch 11, CIFAR-10 Batch 3:  Loss: 82106.4688 Validation Accuracy: 0.491400\n",
      "Epoch 11, CIFAR-10 Batch 4:  Loss: 82953.7969 Validation Accuracy: 0.494600\n",
      "Epoch 11, CIFAR-10 Batch 5:  Loss: 75939.3828 Validation Accuracy: 0.493600\n",
      "Epoch 12, CIFAR-10 Batch 1:  Loss: 94514.9375 Validation Accuracy: 0.493800\n",
      "Epoch 12, CIFAR-10 Batch 2:  Loss: 79495.9297 Validation Accuracy: 0.491800\n",
      "Epoch 12, CIFAR-10 Batch 3:  Loss: 59584.0391 Validation Accuracy: 0.499200\n",
      "Epoch 12, CIFAR-10 Batch 4:  Loss: 58126.4219 Validation Accuracy: 0.501400\n",
      "Epoch 12, CIFAR-10 Batch 5:  Loss: 64923.5625 Validation Accuracy: 0.496000\n",
      "Epoch 13, CIFAR-10 Batch 1:  Loss: 76310.9375 Validation Accuracy: 0.497000\n",
      "Epoch 13, CIFAR-10 Batch 2:  Loss: 58531.1328 Validation Accuracy: 0.498800\n",
      "Epoch 13, CIFAR-10 Batch 3:  Loss: 41911.6680 Validation Accuracy: 0.496000\n",
      "Epoch 13, CIFAR-10 Batch 4:  Loss: 54147.5742 Validation Accuracy: 0.498600\n",
      "Epoch 13, CIFAR-10 Batch 5:  Loss: 48566.6055 Validation Accuracy: 0.502600\n",
      "Epoch 14, CIFAR-10 Batch 1:  Loss: 62055.4297 Validation Accuracy: 0.500400\n",
      "Epoch 14, CIFAR-10 Batch 2:  Loss: 49672.3242 Validation Accuracy: 0.504000\n",
      "Epoch 14, CIFAR-10 Batch 3:  Loss: 35750.9922 Validation Accuracy: 0.504600\n",
      "Epoch 14, CIFAR-10 Batch 4:  Loss: 40114.8477 Validation Accuracy: 0.506000\n",
      "Epoch 14, CIFAR-10 Batch 5:  Loss: 41344.5312 Validation Accuracy: 0.500000\n",
      "Epoch 15, CIFAR-10 Batch 1:  Loss: 50562.1719 Validation Accuracy: 0.501200\n",
      "Epoch 15, CIFAR-10 Batch 2:  Loss: 33363.7305 Validation Accuracy: 0.498000\n",
      "Epoch 15, CIFAR-10 Batch 3:  Loss: 27610.1504 Validation Accuracy: 0.504800\n",
      "Epoch 15, CIFAR-10 Batch 4:  Loss: 33135.9609 Validation Accuracy: 0.504200\n",
      "Epoch 15, CIFAR-10 Batch 5:  Loss: 32768.4492 Validation Accuracy: 0.510400\n",
      "Epoch 16, CIFAR-10 Batch 1:  Loss: 36429.9219 Validation Accuracy: 0.508200\n",
      "Epoch 16, CIFAR-10 Batch 2:  Loss: 31555.1973 Validation Accuracy: 0.498800\n",
      "Epoch 16, CIFAR-10 Batch 3:  Loss: 20863.8398 Validation Accuracy: 0.506400\n",
      "Epoch 16, CIFAR-10 Batch 4:  Loss: 25565.2305 Validation Accuracy: 0.509000\n",
      "Epoch 16, CIFAR-10 Batch 5:  Loss: 26517.3105 Validation Accuracy: 0.512800\n",
      "Epoch 17, CIFAR-10 Batch 1:  Loss: 32405.5898 Validation Accuracy: 0.504600\n",
      "Epoch 17, CIFAR-10 Batch 2:  Loss: 21593.8145 Validation Accuracy: 0.501200\n",
      "Epoch 17, CIFAR-10 Batch 3:  Loss: 16243.0938 Validation Accuracy: 0.504800\n",
      "Epoch 17, CIFAR-10 Batch 4:  Loss: 18804.4629 Validation Accuracy: 0.505600\n",
      "Epoch 17, CIFAR-10 Batch 5:  Loss: 17284.1523 Validation Accuracy: 0.505600\n",
      "Epoch 18, CIFAR-10 Batch 1:  Loss: 23802.9160 Validation Accuracy: 0.505000\n",
      "Epoch 18, CIFAR-10 Batch 2:  Loss: 18615.7793 Validation Accuracy: 0.509200\n",
      "Epoch 18, CIFAR-10 Batch 3:  Loss: 12212.7168 Validation Accuracy: 0.508200\n",
      "Epoch 18, CIFAR-10 Batch 4:  Loss: 12488.4004 Validation Accuracy: 0.517200\n",
      "Epoch 18, CIFAR-10 Batch 5:  Loss: 13018.5703 Validation Accuracy: 0.518800\n",
      "Epoch 19, CIFAR-10 Batch 1:  Loss: 15695.7969 Validation Accuracy: 0.512200\n",
      "Epoch 19, CIFAR-10 Batch 2:  Loss: 16583.8848 Validation Accuracy: 0.510400\n",
      "Epoch 19, CIFAR-10 Batch 3:  Loss: 10817.7402 Validation Accuracy: 0.507200\n",
      "Epoch 19, CIFAR-10 Batch 4:  Loss: 11472.5898 Validation Accuracy: 0.513200\n",
      "Epoch 19, CIFAR-10 Batch 5:  Loss: 10067.4785 Validation Accuracy: 0.515400\n",
      "Epoch 20, CIFAR-10 Batch 1:  Loss: 11622.9961 Validation Accuracy: 0.515800\n",
      "Epoch 20, CIFAR-10 Batch 2:  Loss: 10815.7803 Validation Accuracy: 0.511200\n",
      "Epoch 20, CIFAR-10 Batch 3:  Loss:  9235.7568 Validation Accuracy: 0.508800\n",
      "Epoch 20, CIFAR-10 Batch 4:  Loss:  8173.8066 Validation Accuracy: 0.519800\n",
      "Epoch 20, CIFAR-10 Batch 5:  Loss:  5724.4648 Validation Accuracy: 0.516600\n",
      "Epoch 21, CIFAR-10 Batch 1:  Loss:  9540.8105 Validation Accuracy: 0.513200\n",
      "Epoch 21, CIFAR-10 Batch 2:  Loss:  8226.5459 Validation Accuracy: 0.514200\n",
      "Epoch 21, CIFAR-10 Batch 3:  Loss:  7834.6875 Validation Accuracy: 0.515000\n",
      "Epoch 21, CIFAR-10 Batch 4:  Loss:  5242.9023 Validation Accuracy: 0.514600\n",
      "Epoch 21, CIFAR-10 Batch 5:  Loss:  6178.9619 Validation Accuracy: 0.516800\n",
      "Epoch 22, CIFAR-10 Batch 1:  Loss:  7731.5264 Validation Accuracy: 0.517800\n",
      "Epoch 22, CIFAR-10 Batch 2:  Loss:  6476.1030 Validation Accuracy: 0.516000\n",
      "Epoch 22, CIFAR-10 Batch 3:  Loss:  5278.8467 Validation Accuracy: 0.515600\n",
      "Epoch 22, CIFAR-10 Batch 4:  Loss:  6242.2891 Validation Accuracy: 0.514400\n",
      "Epoch 22, CIFAR-10 Batch 5:  Loss:  4130.2607 Validation Accuracy: 0.513800\n",
      "Epoch 23, CIFAR-10 Batch 1:  Loss:  6295.6489 Validation Accuracy: 0.515200\n",
      "Epoch 23, CIFAR-10 Batch 2:  Loss:  3548.3086 Validation Accuracy: 0.514600\n",
      "Epoch 23, CIFAR-10 Batch 3:  Loss:  6011.8638 Validation Accuracy: 0.513200\n",
      "Epoch 23, CIFAR-10 Batch 4:  Loss:  3089.7991 Validation Accuracy: 0.515200\n",
      "Epoch 23, CIFAR-10 Batch 5:  Loss:  4484.7471 Validation Accuracy: 0.515200\n",
      "Epoch 24, CIFAR-10 Batch 1:  Loss:  4650.1353 Validation Accuracy: 0.515400\n",
      "Epoch 24, CIFAR-10 Batch 2:  Loss:  3806.9558 Validation Accuracy: 0.516000\n",
      "Epoch 24, CIFAR-10 Batch 3:  Loss:  6124.6938 Validation Accuracy: 0.521400\n",
      "Epoch 24, CIFAR-10 Batch 4:  Loss:  4227.8608 Validation Accuracy: 0.516800\n",
      "Epoch 24, CIFAR-10 Batch 5:  Loss:  3121.7456 Validation Accuracy: 0.514800\n",
      "Epoch 25, CIFAR-10 Batch 1:  Loss:  4758.5713 Validation Accuracy: 0.514200\n",
      "Epoch 25, CIFAR-10 Batch 2:  Loss:  2161.8823 Validation Accuracy: 0.510400\n",
      "Epoch 25, CIFAR-10 Batch 3:  Loss:  8240.5000 Validation Accuracy: 0.511400\n",
      "Epoch 25, CIFAR-10 Batch 4:  Loss:  3469.3235 Validation Accuracy: 0.514800\n",
      "Epoch 25, CIFAR-10 Batch 5:  Loss:  2439.1541 Validation Accuracy: 0.516200\n",
      "Epoch 26, CIFAR-10 Batch 1:  Loss:  3088.7305 Validation Accuracy: 0.516000\n",
      "Epoch 26, CIFAR-10 Batch 2:  Loss:   994.8508 Validation Accuracy: 0.514200\n",
      "Epoch 26, CIFAR-10 Batch 3:  Loss:  6629.6611 Validation Accuracy: 0.520800\n",
      "Epoch 26, CIFAR-10 Batch 4:  Loss:  3754.6660 Validation Accuracy: 0.520600\n",
      "Epoch 26, CIFAR-10 Batch 5:  Loss:  2319.6128 Validation Accuracy: 0.523400\n",
      "Epoch 27, CIFAR-10 Batch 1:  Loss:  2791.8669 Validation Accuracy: 0.516600\n",
      "Epoch 27, CIFAR-10 Batch 2:  Loss:  1466.9763 Validation Accuracy: 0.517600\n",
      "Epoch 27, CIFAR-10 Batch 3:  Loss:  3633.3328 Validation Accuracy: 0.514600\n",
      "Epoch 27, CIFAR-10 Batch 4:  Loss:  2482.1267 Validation Accuracy: 0.517200\n",
      "Epoch 27, CIFAR-10 Batch 5:  Loss:  1420.5859 Validation Accuracy: 0.524800\n",
      "Epoch 28, CIFAR-10 Batch 1:  Loss:  2710.7563 Validation Accuracy: 0.519800\n",
      "Epoch 28, CIFAR-10 Batch 2:  Loss:  1406.5336 Validation Accuracy: 0.521400\n",
      "Epoch 28, CIFAR-10 Batch 3:  Loss:  2825.2798 Validation Accuracy: 0.519800\n",
      "Epoch 28, CIFAR-10 Batch 4:  Loss:   901.5228 Validation Accuracy: 0.519800\n",
      "Epoch 28, CIFAR-10 Batch 5:  Loss:   990.6992 Validation Accuracy: 0.519800\n",
      "Epoch 29, CIFAR-10 Batch 1:  Loss:   821.8938 Validation Accuracy: 0.521400\n",
      "Epoch 29, CIFAR-10 Batch 2:  Loss:  1220.8103 Validation Accuracy: 0.521600\n",
      "Epoch 29, CIFAR-10 Batch 3:  Loss:  2936.3403 Validation Accuracy: 0.527800\n",
      "Epoch 29, CIFAR-10 Batch 4:  Loss:  1134.2792 Validation Accuracy: 0.524600\n",
      "Epoch 29, CIFAR-10 Batch 5:  Loss:  1204.2732 Validation Accuracy: 0.526200\n",
      "Epoch 30, CIFAR-10 Batch 1:  Loss:   947.8075 Validation Accuracy: 0.523600\n",
      "Epoch 30, CIFAR-10 Batch 2:  Loss:    29.2868 Validation Accuracy: 0.527400\n",
      "Epoch 30, CIFAR-10 Batch 3:  Loss:  2756.5811 Validation Accuracy: 0.526200\n",
      "Epoch 30, CIFAR-10 Batch 4:  Loss:  1012.4959 Validation Accuracy: 0.524800\n",
      "Epoch 30, CIFAR-10 Batch 5:  Loss:   559.6807 Validation Accuracy: 0.530000\n"
     ]
    }
   ],
   "source": [
    "\"\"\"\n",
    "DON'T MODIFY ANYTHING IN THIS CELL\n",
    "\"\"\"\n",
    "save_model_path = './image_classification'\n",
    "\n",
    "print('Training...')\n",
    "with tf.Session() as sess:\n",
    "    # Initializing the variables\n",
    "    sess.run(tf.global_variables_initializer())\n",
    "    \n",
    "    # Training cycle\n",
    "    for epoch in range(epochs):\n",
    "        # Loop over all batches\n",
    "        n_batches = 5\n",
    "        for batch_i in range(1, n_batches + 1):\n",
    "            for batch_features, batch_labels in helper.load_preprocess_training_batch(batch_i, batch_size):\n",
    "                train_neural_network(sess, optimizer, keep_probability, batch_features, batch_labels)\n",
    "            print('Epoch {:>2}, CIFAR-10 Batch {}:  '.format(epoch + 1, batch_i), end='')\n",
    "            print_stats(sess, batch_features, batch_labels, cost, accuracy)\n",
    "            \n",
    "    # Save Model\n",
    "    saver = tf.train.Saver()\n",
    "    save_path = saver.save(sess, save_model_path)"
   ]
  },
  {
   "cell_type": "markdown",
   "metadata": {
    "deletable": true,
    "editable": true
   },
   "source": [
    "# Checkpoint\n",
    "The model has been saved to disk.\n",
    "## Test Model\n",
    "Test your model against the test dataset.  This will be your final accuracy. You should have an accuracy greater than 50%. If you don't, keep tweaking the model architecture and parameters."
   ]
  },
  {
   "cell_type": "code",
   "execution_count": 14,
   "metadata": {
    "collapsed": false,
    "deletable": true,
    "editable": true
   },
   "outputs": [
    {
     "name": "stdout",
     "output_type": "stream",
     "text": [
      "Testing Accuracy: 0.5431583195924758\n",
      "\n"
     ]
    },
    {
     "data": {
      "image/png": "[encoded data removed]",
      "text/plain": [
       "<matplotlib.figure.Figure at 0x7f2d7069bef0>"
      ]
     },
     "metadata": {
      "image/png": {
       "height": 319,
       "width": 349
      }
     },
     "output_type": "display_data"
    }
   ],
   "source": [
    "\"\"\"\n",
    "DON'T MODIFY ANYTHING IN THIS CELL\n",
    "\"\"\"\n",
    "%matplotlib inline\n",
    "%config InlineBackend.figure_format = 'retina'\n",
    "\n",
    "import tensorflow as tf\n",
    "import pickle\n",
    "import helper\n",
    "import random\n",
    "\n",
    "# Set batch size if not already set\n",
    "try:\n",
    "    if batch_size:\n",
    "        pass\n",
    "except NameError:\n",
    "    batch_size = 64\n",
    "\n",
    "save_model_path = './image_classification'\n",
    "n_samples = 4\n",
    "top_n_predictions = 3\n",
    "\n",
    "def test_model():\n",
    "    \"\"\"\n",
    "    Test the saved model against the test dataset\n",
    "    \"\"\"\n",
    "\n",
    "    test_features, test_labels = pickle.load(open('preprocess_training.p', mode='rb'))\n",
    "    loaded_graph = tf.Graph()\n",
    "\n",
    "    with tf.Session(graph=loaded_graph) as sess:\n",
    "        # Load model\n",
    "        loader = tf.train.import_meta_graph(save_model_path + '.meta')\n",
    "        loader.restore(sess, save_model_path)\n",
    "\n",
    "        # Get Tensors from loaded model\n",
    "        loaded_x = loaded_graph.get_tensor_by_name('x:0')\n",
    "        loaded_y = loaded_graph.get_tensor_by_name('y:0')\n",
    "        loaded_keep_prob = loaded_graph.get_tensor_by_name('keep_prob:0')\n",
    "        loaded_logits = loaded_graph.get_tensor_by_name('logits:0')\n",
    "        loaded_acc = loaded_graph.get_tensor_by_name('accuracy:0')\n",
    "        \n",
    "        # Get accuracy in batches for memory limitations\n",
    "        test_batch_acc_total = 0\n",
    "        test_batch_count = 0\n",
    "        \n",
    "        for train_feature_batch, train_label_batch in helper.batch_features_labels(test_features, test_labels, batch_size):\n",
    "            test_batch_acc_total += sess.run(\n",
    "                loaded_acc,\n",
    "                feed_dict={loaded_x: train_feature_batch, loaded_y: train_label_batch, loaded_keep_prob: 1.0})\n",
    "            test_batch_count += 1\n",
    "\n",
    "        print('Testing Accuracy: {}\\n'.format(test_batch_acc_total/test_batch_count))\n",
    "\n",
    "        # Print Random Samples\n",
    "        random_test_features, random_test_labels = tuple(zip(*random.sample(list(zip(test_features, test_labels)), n_samples)))\n",
    "        random_test_predictions = sess.run(\n",
    "            tf.nn.top_k(tf.nn.softmax(loaded_logits), top_n_predictions),\n",
    "            feed_dict={loaded_x: random_test_features, loaded_y: random_test_labels, loaded_keep_prob: 1.0})\n",
    "        helper.display_image_predictions(random_test_features, random_test_labels, random_test_predictions)\n",
    "\n",
    "\n",
    "test_model()"
   ]
  },
  {
   "cell_type": "markdown",
   "metadata": {
    "deletable": true,
    "editable": true
   },
   "source": [
    "## Why 50-70% Accuracy?\n",
    "You might be wondering why you can't get an accuracy any higher. First things first, 50% isn't bad for a simple CNN.  Pure guessing would get you 10% accuracy. However, you might notice people are getting scores [well above 70%](http://rodrigob.github.io/are_we_there_yet/build/classification_datasets_results.html#43494641522d3130).  That's because we haven't taught you all there is to know about neural networks. We still need to cover a few more techniques.\n",
    "## Submitting This Project\n",
    "When submitting this project, make sure to run all the cells before saving the notebook.  Save the notebook file as \"dlnd_image_classification.ipynb\" and save it as a HTML file under \"File\" -> \"Download as\".  Include the \"helper.py\" and \"problem_unittests.py\" files in your submission."
   ]
  }
 ],
 "metadata": {
  "kernelspec": {
   "display_name": "Python 3",
   "language": "python",
   "name": "python3"
  },
  "language_info": {
   "codemirror_mode": {
    "name": "ipython",
    "version": 3
   },
   "file_extension": ".py",
   "mimetype": "text/x-python",
   "name": "python",
   "nbconvert_exporter": "python",
   "pygments_lexer": "ipython3",
   "version": "3.5.2"
  },
  "widgets": {
   "state": {},
   "version": "1.1.2"
  }
 },
 "nbformat": 4,
 "nbformat_minor": 0
}
